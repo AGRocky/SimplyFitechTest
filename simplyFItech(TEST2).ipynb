{
 "cells": [
  {
   "cell_type": "markdown",
   "id": "2b0d8ca8-b63b-4db6-9d18-9acdb4e3780f",
   "metadata": {},
   "source": [
    "# You won't get cuaght if you hide behind someone"
   ]
  },
  {
   "cell_type": "code",
   "execution_count": 25,
   "id": "4b36c5a6-4919-4986-891e-9f8754d64497",
   "metadata": {},
   "outputs": [
    {
     "name": "stdin",
     "output_type": "stream",
     "text": [
      " 3\n",
      " 4 10\n",
      " 2 13 4 16\n"
     ]
    },
    {
     "name": "stdout",
     "output_type": "stream",
     "text": [
      "Total number of persons who got shot is: 2\n"
     ]
    },
    {
     "name": "stdin",
     "output_type": "stream",
     "text": [
      " 5 8\n",
      " 9 3 8 8 4\n"
     ]
    },
    {
     "name": "stdout",
     "output_type": "stream",
     "text": [
      "Total number of persons who got shot is: 1\n"
     ]
    },
    {
     "name": "stdin",
     "output_type": "stream",
     "text": [
      " 4 6\n",
      " 1 2 3 4\n"
     ]
    },
    {
     "name": "stdout",
     "output_type": "stream",
     "text": [
      "Total number of persons who got shot is: 0\n"
     ]
    }
   ],
   "source": [
    "# Taking in inputs for number of iterations for test cases\n",
    "n = int(input()) \n",
    "\n",
    "#This loop iterates over the number of times in given input 'n'\n",
    "for i in range(n): \n",
    "    \n",
    "    # Initializing the variable c to 0 so that the number of person getting shot will be updated\n",
    "    shot = 0          \n",
    "    \n",
    "    # Variable 'n' takes in the number of persons to be in the straight line and \n",
    "    # variable 'k' takes the height as Gi-Hun\n",
    "    n,gi_hun_height = list(map(int,input().split()))  \n",
    "    \n",
    "    # The variable heights gives the list of persons standing in straight line\n",
    "    hts = list(map(int,input().split()))\n",
    "    \n",
    "    # This loop iterates over the list of heights \n",
    "    for i in hts: \n",
    "        \n",
    "         # This condition appends the values of person who's height is more than the value of 'k' mentioned above and gets shot\n",
    "        if i > gi_hun_height: \n",
    "            \n",
    "            # The person who gets shot is appended to the variable c\n",
    "            shot+=1  \n",
    "            \n",
    "    # Prints the number of players who gets shot        \n",
    "    print('Total number of persons who got shot is:',shot)        "
   ]
  },
  {
   "cell_type": "code",
   "execution_count": null,
   "id": "076ddb66-7c8b-4900-a2cf-2241f0faf4cf",
   "metadata": {},
   "outputs": [],
   "source": []
  },
  {
   "cell_type": "code",
   "execution_count": null,
   "id": "967c0f9f-ec14-487d-9a3a-5ed322db0e18",
   "metadata": {},
   "outputs": [],
   "source": []
  }
 ],
 "metadata": {
  "kernelspec": {
   "display_name": "Python 3 (ipykernel)",
   "language": "python",
   "name": "python3"
  },
  "language_info": {
   "codemirror_mode": {
    "name": "ipython",
    "version": 3
   },
   "file_extension": ".py",
   "mimetype": "text/x-python",
   "name": "python",
   "nbconvert_exporter": "python",
   "pygments_lexer": "ipython3",
   "version": "3.9.9"
  }
 },
 "nbformat": 4,
 "nbformat_minor": 5
}
