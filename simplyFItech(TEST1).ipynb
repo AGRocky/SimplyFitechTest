{
 "cells": [
  {
   "cell_type": "markdown",
   "id": "e7f008d5-0f49-4aaf-81e4-75206bde6bb4",
   "metadata": {},
   "source": [
    "## Converting integer values into Indian currency notation"
   ]
  },
  {
   "cell_type": "code",
   "execution_count": 47,
   "id": "e32d1645-4675-4f75-9d18-cf035b53e64a",
   "metadata": {},
   "outputs": [],
   "source": [
    "def formatted_int(value):\n",
    "    # if the value is 100, 10, 1\n",
    "\n",
    "    if len(str(value)) <= 3:\n",
    "        return value\n",
    "\n",
    "    # if the value is 10,000, 1,000\n",
    "    elif  3 < len(str(value)) <= 5:\n",
    "        return f'{str(value)[:-3]},{str(value)[-3:]}'\n",
    "\n",
    "    # if the value is greater the 10,000    \n",
    "    else:\n",
    "        cut = str(value)[:-3]  \n",
    "        o = []\n",
    "        while cut:\n",
    "            o.append(cut[-2:]) # appending from 1000th value(right to left)\n",
    "            cut = cut[:-2]\n",
    "        \n",
    "        o = o[::-1] # reversing list\n",
    "        res = \",\".join(o) \n",
    "        \n",
    "        return f'{res},{str(value)[-3:]}'\n",
    "\n",
    "\n",
    "value1 = 504678"
   ]
  },
  {
   "cell_type": "code",
   "execution_count": 48,
   "id": "c6b5f137-ca47-4c03-bea4-d4137a094f56",
   "metadata": {},
   "outputs": [
    {
     "name": "stdout",
     "output_type": "stream",
     "text": [
      "5,04,678\n"
     ]
    }
   ],
   "source": [
    "print(formatted_int(value1))"
   ]
  },
  {
   "cell_type": "code",
   "execution_count": null,
   "id": "dde2197c-241c-4f16-a3fa-e98ec928e4c2",
   "metadata": {},
   "outputs": [],
   "source": []
  }
 ],
 "metadata": {
  "kernelspec": {
   "display_name": "Python 3 (ipykernel)",
   "language": "python",
   "name": "python3"
  },
  "language_info": {
   "codemirror_mode": {
    "name": "ipython",
    "version": 3
   },
   "file_extension": ".py",
   "mimetype": "text/x-python",
   "name": "python",
   "nbconvert_exporter": "python",
   "pygments_lexer": "ipython3",
   "version": "3.9.9"
  }
 },
 "nbformat": 4,
 "nbformat_minor": 5
}
